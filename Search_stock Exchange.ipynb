{
 "cells": [
  {
   "cell_type": "code",
   "execution_count": 5,
   "metadata": {},
   "outputs": [
    {
     "name": "stdout",
     "output_type": "stream",
     "text": [
      "5.0607\n"
     ]
    }
   ],
   "source": [
    "import requests\n",
    "\n",
    "# Search the information\n",
    "\n",
    "link = 'https://economia.awesomeapi.com.br/last/USD-BRL,EUR-BRL,BTC-BRL'\n",
    "\n",
    "search = requests.get(link)\n",
    "\n",
    "search_dic = search.json()\n",
    "\n",
    "price = float(search_dic ['USDBRL']['bid'])\n",
    "\n",
    "print(price)\n"
   ]
  }
 ],
 "metadata": {
  "kernelspec": {
   "display_name": "Python 3.10.6 64-bit",
   "language": "python",
   "name": "python3"
  },
  "language_info": {
   "codemirror_mode": {
    "name": "ipython",
    "version": 3
   },
   "file_extension": ".py",
   "mimetype": "text/x-python",
   "name": "python",
   "nbconvert_exporter": "python",
   "pygments_lexer": "ipython3",
   "version": "3.10.6"
  },
  "orig_nbformat": 4,
  "vscode": {
   "interpreter": {
    "hash": "1eb43a929f44238686194903de167604edebf722adf9b4ee3f15c91488026f27"
   }
  }
 },
 "nbformat": 4,
 "nbformat_minor": 2
}
